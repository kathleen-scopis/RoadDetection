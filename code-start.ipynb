{
 "cells": [
  {
   "cell_type": "code",
   "execution_count": 1,
   "metadata": {},
   "outputs": [],
   "source": [
    "# import\n",
    "import zipfile\n"
   ]
  },
  {
   "cell_type": "code",
   "execution_count": 5,
   "metadata": {},
   "outputs": [],
   "source": [
    "# extract zip file quickly and in gitignore'd folder\n",
    "\n",
    "zip_file_path = \"./data/archive.zip\"\n",
    "\n",
    "# Step 2: Extract the downloaded zip file\n",
    "extracted_folder_path = \"./data/RoadDetectionFiles\"\n",
    "with zipfile.ZipFile(zip_file_path, 'r') as zip_ref:\n",
    "    zip_ref.extractall(extracted_folder_path)"
   ]
  },
  {
   "cell_type": "code",
   "execution_count": 6,
   "metadata": {},
   "outputs": [],
   "source": [
    "# Define paths\n",
    "\n",
    "test_image = './data/RoadDetectionFiles/Test/image'\n",
    "train_image = './data/RoadDetectionFiles/Train/image'\n",
    "validation_image = './data/RoadDetectionFiles/Validation/image'\n",
    "\n",
    "test_centerline = './data/RoadDetectionFiles/Test/centerline'\n",
    "train_centerline = './data/RoadDetectionFiles/Train/centerline'\n",
    "validation_centerline = './data/RoadDetectionFiles/Validation/centerline'\n",
    "\n",
    "test_label = './data/RoadDetectionFiles/Test/label'\n",
    "train_label = './data/RoadDetectionFiles/Train/label'\n",
    "validation_label = './data/RoadDetectionFiles/Validation/label'"
   ]
  },
  {
   "cell_type": "code",
   "execution_count": 24,
   "metadata": {},
   "outputs": [],
   "source": [
    "# check that the image paths are being read correctly\n",
    "\n",
    "from PIL import Image\n",
    "\n",
    "thing = Image.open('./data/RoadDetectionJPEGs/Train/centerline/new_line1.jpeg')\n",
    "thing.show()"
   ]
  },
  {
   "cell_type": "markdown",
   "metadata": {},
   "source": [
    "options we are ditching\n",
    "- find pretrained unet (too hard)\n",
    "- train a unet for semantic segmentation (takes too much time)\n",
    "\n",
    "\n",
    "option we are doing:\n",
    "- resize label images to be all same size - same size as image\n",
    "- make a disclaimer that 44 photos is very few\n",
    "- calculate the sum score for each image - number of pixels classified as a road\n",
    "- Train a CNN network to predict number of road pixels (similar to HW3 , but the output is a single score)\n",
    "\n",
    "\n",
    "- extension: instead of using regular images, crop patches to like 100x100 images\n"
   ]
  }
 ],
 "metadata": {
  "kernelspec": {
   "display_name": "musa-550-fall-2023",
   "language": "python",
   "name": "python3"
  },
  "language_info": {
   "codemirror_mode": {
    "name": "ipython",
    "version": 3
   },
   "file_extension": ".py",
   "mimetype": "text/x-python",
   "name": "python",
   "nbconvert_exporter": "python",
   "pygments_lexer": "ipython3",
   "version": "3.10.12"
  }
 },
 "nbformat": 4,
 "nbformat_minor": 2
}
